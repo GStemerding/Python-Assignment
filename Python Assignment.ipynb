{
 "cells": [
  {
   "cell_type": "markdown",
   "metadata": {},
   "source": [
    "<p style=\"text-align: center;\">Incentive Types and Response Rates</p>\n",
    "=====================================================================\n",
    "<p style=\"text-align: center;\">An empirical experiment on the effect of different types of incentives on survey response rates and effort</p>\n",
    "<br><br>\n",
    "\n",
    "|Name             |ANR   |\n",
    "|-----------------|------|\n",
    "|Gopala Stemerding|830951|\n",
    "|Joeri Verlinden  |601536|\n",
    "<br>\n",
    "\n",
    "**Assignment for Python course Applied Econonomic Analysis 1.**\n",
    "\n",
    "## Research Question\n",
    "Do survey response rates differ by using different types of incentives?\n",
    "\n",
    "## _Motivation_\n",
    "Surveys are an important method for firms of acquiring information on their customers. This information can for instance be used to improve their current products in such a way that the demands of their customers are more precisely met. In this paper four incentive types are discussed and compared on their effectiveness in increasing survey response rates. These incentive types are conditional and unconditional incentives, large uncertain payments and small certain payments. Since it has been documented that offering an incentive in the first place increases response rates [(Willimack et al. 1995)](http://poq.oxfordjournals.org/content/59/1/78.short) a group receiving no incentives is excluded in this paper. A first look at existing literature on the incentive types shows that according to an experiment by [Castiglioni, Pforr & Krieger (2008)](https://ojs.ub.uni-konstanz.de/srm/article/view/599/2137) response rates in panel data are higher when unconditional incentives are used compared to incentives that are conditional on the respondent filling in the survey first. On a side note, [Singer et al (1999)](http://www.jos.nu/Articles/article.asp) found that monetary incentives are more effective than non-monetary incentives in increasing response rates, which is also discussed following our results. However on the trade-off between large uncertain and small certain payments there is little literature to be found. Therefore this paper discusses our experiment where we investigate the four different incentive types and their effect on response rates and the amount of effort exerted in filling in a survey. It is often important to know the level of effort exerted by the respondents because if a firm is using open-questions for example more effort will most likely increase the value of an answer.Since it is often conventional to survey respondents only once our experiment compares conditional and unconditional incentive types over a set of independent subjects rather than using a panel as in the experiment of Castiglioni et al.   \n",
    "\n",
    "## _Method_\n",
    "Our experiment was conducted in the form of a randomized controlled field experiment aiming to discover if an unconditional incentive is better than a conditional one and if a small certain payment is better than a large uncertain payment for increasing response rates and effort levels. Each respondent was only asked once such that four independent treatment groups are formed. We constructed a questionnaire consisiting of questions about the opinions of certain facilities of the University of Tilburg, which was purposely entirely unrelated to the purpose of the experiment as to prevent it from affecting the outcomes. The level of effort was measured by the amount of words respondents used in answering all open questions. To eliminate selection bias all our respondents were students at computers in the library of Tilburg University. Furthermore the same interviewer was used for all four groups and all respondents of all groups were asked at the same time of day.\n",
    "\n",
    "As already noted we use four different independent groups in our experiment. Group A represented the small certain payment group where we asked respondents if they wanted to fill in our survey for 50 eurocents. Group B represented the large uncertain payment group where we asked the respondents if they wanted to fill in the survey for a small chance (2,5%) at winning 20 euro's, equalling in expected value the 50 cents. Group C represented the conditional incentive group as we asked the respondents if they wanted to fill in our survey for a chocolate letter. Group D represented the unconditional group who were asked if they wanted a chocolate letter and only afterwards, regardless their answer, were asked if they wanted to fill in our survey. \n"
   ]
  },
  {
   "cell_type": "markdown",
   "metadata": {},
   "source": [
    "\n",
    "##### Fisher exact test on survey response rates by Conditional and Unconditional incentives\n",
    "\n",
    "|   Version 2   | Niet ingevuld | Ingevuld       | Total      |     \n",
    "| ------------  | :-----------: |-------------:  | ---------- |\n",
    "| 0             | 1             | 39             | 12         |  \n",
    "| 1             | 6             | 30             | 36         | \n",
    " "
   ]
  },
  {
   "cell_type": "code",
   "execution_count": 3,
   "metadata": {
    "collapsed": false
   },
   "outputs": [
    {
     "data": {
      "text/plain": [
       "0.047984369515287041"
      ]
     },
     "execution_count": 3,
     "metadata": {},
     "output_type": "execute_result"
    }
   ],
   "source": [
    "import scipy.stats as stats\n",
    "oddsratio, pvalue = stats.fisher_exact([[1, 39], [6, 30]])\n",
    "pvalue"
   ]
  },
  {
   "cell_type": "code",
   "execution_count": null,
   "metadata": {
    "collapsed": true
   },
   "outputs": [],
   "source": []
  }
 ],
 "metadata": {
  "kernelspec": {
   "display_name": "Python [Root]",
   "language": "python",
   "name": "Python [Root]"
  },
  "language_info": {
   "codemirror_mode": {
    "name": "ipython",
    "version": 2
   },
   "file_extension": ".py",
   "mimetype": "text/x-python",
   "name": "python",
   "nbconvert_exporter": "python",
   "pygments_lexer": "ipython2",
   "version": "2.7.12"
  }
 },
 "nbformat": 4,
 "nbformat_minor": 0
}
